{
 "cells": [
  {
   "cell_type": "code",
   "execution_count": 1,
   "metadata": {},
   "outputs": [
    {
     "name": "stdout",
     "output_type": "stream",
     "text": [
      "['normal-z-line', 'esophagitis', 'normal-pylorus', 'normal-cecum', 'dyed-lifted-polyps', 'polyps', 'dyed-resection-margins', 'ulcerative-colitis']\n"
     ]
    }
   ],
   "source": [
    "import numpy as np \n",
    "import pandas as pd \n",
    "\n",
    "\n",
    "import os\n",
    "print(os.listdir(\"./kvasir-dataset-v2/\"))"
   ]
  },
  {
   "cell_type": "code",
   "execution_count": 3,
   "metadata": {},
   "outputs": [
    {
     "ename": "ModuleNotFoundError",
     "evalue": "No module named 'cv2'",
     "output_type": "error",
     "traceback": [
      "\u001b[0;31m---------------------------------------------------------------------------\u001b[0m",
      "\u001b[0;31mModuleNotFoundError\u001b[0m                       Traceback (most recent call last)",
      "\u001b[0;32m<ipython-input-3-07b1bc6e43e4>\u001b[0m in \u001b[0;36m<module>\u001b[0;34m()\u001b[0m\n\u001b[0;32m----> 1\u001b[0;31m \u001b[0;32mimport\u001b[0m \u001b[0mcv2\u001b[0m\u001b[0;34m\u001b[0m\u001b[0m\n\u001b[0m\u001b[1;32m      2\u001b[0m \u001b[0;32mimport\u001b[0m \u001b[0mglob\u001b[0m\u001b[0;34m\u001b[0m\u001b[0m\n\u001b[1;32m      3\u001b[0m \u001b[0;32mimport\u001b[0m \u001b[0mkeras\u001b[0m\u001b[0;34m\u001b[0m\u001b[0m\n\u001b[1;32m      4\u001b[0m \u001b[0;32mfrom\u001b[0m \u001b[0mkeras\u001b[0m\u001b[0;34m.\u001b[0m\u001b[0mutils\u001b[0m \u001b[0;32mimport\u001b[0m \u001b[0mnp_utils\u001b[0m\u001b[0;34m\u001b[0m\u001b[0m\n\u001b[1;32m      5\u001b[0m \u001b[0;32mfrom\u001b[0m \u001b[0mkeras\u001b[0m\u001b[0;34m.\u001b[0m\u001b[0mmodels\u001b[0m \u001b[0;32mimport\u001b[0m \u001b[0mSequential\u001b[0m \u001b[0;34m,\u001b[0m \u001b[0mModel\u001b[0m\u001b[0;34m\u001b[0m\u001b[0m\n",
      "\u001b[0;31mModuleNotFoundError\u001b[0m: No module named 'cv2'"
     ]
    }
   ],
   "source": [
    "import cv2\n",
    "import glob\n",
    "import keras\n",
    "from keras.utils import np_utils\n",
    "from keras.models import Sequential , Model\n",
    "from keras.layers import Conv2D,MaxPooling2D,Dense,Flatten,Dropout\n",
    "from sklearn.model_selection import train_test_split\n",
    "from keras.models import Sequential\n",
    "from keras.optimizers import SGD, Adam, RMSprop, Nadam\n",
    "\n",
    "from keras.utils import to_categorical\n",
    "from matplotlib import pyplot\n",
    "from keras.layers import  Dropout, BatchNormalization , Activation , Input\n",
    "from keras.regularizers import l1,l2\n",
    "from keras.applications.mobilenet_v2 import MobileNetV2\n",
    "from keras.applications.vgg16 import VGG16\n",
    "from keras.applications.vgg19 import VGG19\n",
    "import cv2\n",
    "import matplotlib.pyplot as plt"
   ]
  },
  {
   "cell_type": "code",
   "execution_count": 4,
   "metadata": {},
   "outputs": [],
   "source": [
    "path = \"./kvasir-dataset-v2/\"\n",
    "categories = next(os.walk(path))[1]\n",
    "X , Y = [] , []\n",
    "count = 0\n",
    "for category in categories:\n",
    "    ids = next(os.walk(path + category))[2]\n",
    "    for i in ids:\n",
    "        img = cv2.imread(path + category + '/' + i)\n",
    "        img_resized = cv2.resize(img,(128,128), interpolation=cv2.INTER_AREA)\n",
    "        img_rsd_normalized = img_resized / 255.0\n",
    "        X.append(img_rsd_normalized)\n",
    "        Y.append(count)\n",
    "    count += 1 "
   ]
  },
  {
   "cell_type": "code",
   "execution_count": 5,
   "metadata": {},
   "outputs": [
    {
     "name": "stdout",
     "output_type": "stream",
     "text": [
      "['normal-z-line', 'esophagitis', 'normal-pylorus', 'normal-cecum', 'dyed-lifted-polyps', 'polyps', 'dyed-resection-margins', 'ulcerative-colitis']\n"
     ]
    }
   ],
   "source": [
    "print(categories)"
   ]
  },
  {
   "cell_type": "code",
   "execution_count": 6,
   "metadata": {},
   "outputs": [
    {
     "name": "stdout",
     "output_type": "stream",
     "text": [
      "(8000, 128, 128, 3) (8000, 8)\n"
     ]
    }
   ],
   "source": [
    "X , Y = np.array(X) , np.array(Y)\n",
    "Y = np_utils.to_categorical(Y)\n",
    "print(X.shape , Y.shape)"
   ]
  },
  {
   "cell_type": "code",
   "execution_count": 7,
   "metadata": {},
   "outputs": [
    {
     "name": "stdout",
     "output_type": "stream",
     "text": [
      "(5760, 128, 128, 3) (1440, 128, 128, 3) (800, 128, 128, 3)\n"
     ]
    }
   ],
   "source": [
    "X_train, X_test, y_train, y_test = train_test_split(X, Y, test_size=0.1, random_state=1)\n",
    "\n",
    "X_train, X_val, y_train, y_val  = train_test_split(X_train, y_train, test_size=0.2, random_state=5)\n",
    "\n",
    "print(X_train.shape , X_val.shape , X_test.shape)"
   ]
  },
  {
   "cell_type": "code",
   "execution_count": 8,
   "metadata": {},
   "outputs": [],
   "source": [
    "from keras.preprocessing.image import ImageDataGenerator\n",
    "\n",
    "BATCH_SIZE = 16\n",
    "TRAIN_DIR = './kvasir-dataset-v2'\n",
    "\n",
    "train_datagen = ImageDataGenerator(\n",
    "        shear_range=0.2,\n",
    "        zoom_range=0.2,\n",
    "        rotation_range=10,\n",
    "        width_shift_range=0.1,  \n",
    "        height_shift_range=0.1,\n",
    "        horizontal_flip=True)\n",
    "\n",
    "val_datagen = ImageDataGenerator()\n",
    "test_datagen = ImageDataGenerator()\n",
    "\n",
    "train_datagen.fit(X_train)\n",
    "val_datagen.fit(X_val)\n",
    "test_datagen.fit(X_test)"
   ]
  },
  {
   "cell_type": "code",
   "execution_count": 9,
   "metadata": {},
   "outputs": [
    {
     "name": "stdout",
     "output_type": "stream",
     "text": [
      "Model: \"model_1\"\n",
      "_________________________________________________________________\n",
      "Layer (type)                 Output Shape              Param #   \n",
      "=================================================================\n",
      "input_2 (InputLayer)         (None, 128, 128, 3)       0         \n",
      "_________________________________________________________________\n",
      "batch_normalization_1 (Batch (None, 128, 128, 3)       12        \n",
      "_________________________________________________________________\n",
      "vgg19 (Model)                (None, 4, 4, 512)         20024384  \n",
      "_________________________________________________________________\n",
      "conv2d_1 (Conv2D)            (None, 4, 4, 128)         65664     \n",
      "_________________________________________________________________\n",
      "flatten_1 (Flatten)          (None, 2048)              0         \n",
      "_________________________________________________________________\n",
      "dense_1 (Dense)              (None, 512)               1049088   \n",
      "_________________________________________________________________\n",
      "dense_2 (Dense)              (None, 8)                 4104      \n",
      "=================================================================\n",
      "Total params: 21,143,252\n",
      "Trainable params: 21,143,246\n",
      "Non-trainable params: 6\n",
      "_________________________________________________________________\n"
     ]
    }
   ],
   "source": [
    "def create_model(input_shape, n_out):\n",
    "    \n",
    "    pretrain_model = VGG19(\n",
    "        include_top=False, \n",
    "        weights=None, \n",
    "        input_shape=input_shape)    \n",
    "    \n",
    "    input_tensor = Input(shape=input_shape)\n",
    "    bn = BatchNormalization()(input_tensor)\n",
    "    x = pretrain_model(bn)\n",
    "    x = Conv2D(128, kernel_size=(1,1), activation='relu')(x)\n",
    "    x = Flatten()(x)\n",
    "    x = Dense(512, activation='relu')(x)\n",
    "    output = Dense(n_out, activation='softmax')(x)\n",
    "    model = Model(input_tensor, output)\n",
    "    \n",
    "    return model\n",
    "model = create_model((128,128,3),8)\n",
    "model.compile(optimizer=Adam(lr=2e-5,decay=1e-6), loss='categorical_crossentropy', metrics=['accuracy'])\n",
    "model.summary()"
   ]
  },
  {
   "cell_type": "code",
   "execution_count": 10,
   "metadata": {},
   "outputs": [
    {
     "name": "stdout",
     "output_type": "stream",
     "text": [
      "Epoch 1/50\n",
      "360/360 [==============================] - 116s 323ms/step - loss: 1.3776 - accuracy: 0.4035 - val_loss: 0.9796 - val_accuracy: 0.5167\n",
      "\n",
      "Epoch 00001: val_loss improved from inf to 0.97960, saving model to mykaggle_weights_mymodel_vgg19_AdamOpt.hdf5\n",
      "Epoch 2/50\n",
      "360/360 [==============================] - 105s 292ms/step - loss: 0.9522 - accuracy: 0.5689 - val_loss: 0.7965 - val_accuracy: 0.6257\n",
      "\n",
      "Epoch 00002: val_loss improved from 0.97960 to 0.79649, saving model to mykaggle_weights_mymodel_vgg19_AdamOpt.hdf5\n",
      "Epoch 3/50\n",
      "360/360 [==============================] - 104s 289ms/step - loss: 0.8849 - accuracy: 0.6087 - val_loss: 0.8030 - val_accuracy: 0.6083\n",
      "\n",
      "Epoch 00003: val_loss did not improve from 0.79649\n",
      "Epoch 4/50\n",
      "360/360 [==============================] - 104s 289ms/step - loss: 0.8309 - accuracy: 0.6236 - val_loss: 0.7418 - val_accuracy: 0.6729\n",
      "\n",
      "Epoch 00004: val_loss improved from 0.79649 to 0.74184, saving model to mykaggle_weights_mymodel_vgg19_AdamOpt.hdf5\n",
      "Epoch 5/50\n",
      "360/360 [==============================] - 104s 289ms/step - loss: 0.8067 - accuracy: 0.6328 - val_loss: 0.7067 - val_accuracy: 0.6528\n",
      "\n",
      "Epoch 00005: val_loss improved from 0.74184 to 0.70666, saving model to mykaggle_weights_mymodel_vgg19_AdamOpt.hdf5\n",
      "Epoch 6/50\n",
      "360/360 [==============================] - 104s 289ms/step - loss: 0.7835 - accuracy: 0.6455 - val_loss: 0.7157 - val_accuracy: 0.6486\n",
      "\n",
      "Epoch 00006: val_loss did not improve from 0.70666\n",
      "Epoch 7/50\n",
      "360/360 [==============================] - 104s 289ms/step - loss: 0.7562 - accuracy: 0.6502 - val_loss: 0.7483 - val_accuracy: 0.6618\n",
      "\n",
      "Epoch 00007: val_loss did not improve from 0.70666\n",
      "Epoch 8/50\n",
      "360/360 [==============================] - 104s 289ms/step - loss: 0.7544 - accuracy: 0.6531 - val_loss: 0.6848 - val_accuracy: 0.6799\n",
      "\n",
      "Epoch 00008: val_loss improved from 0.70666 to 0.68480, saving model to mykaggle_weights_mymodel_vgg19_AdamOpt.hdf5\n",
      "Epoch 9/50\n",
      "360/360 [==============================] - 104s 289ms/step - loss: 0.7360 - accuracy: 0.6649 - val_loss: 0.6468 - val_accuracy: 0.7035\n",
      "\n",
      "Epoch 00009: val_loss improved from 0.68480 to 0.64682, saving model to mykaggle_weights_mymodel_vgg19_AdamOpt.hdf5\n",
      "Epoch 10/50\n",
      "360/360 [==============================] - 104s 289ms/step - loss: 0.7212 - accuracy: 0.6705 - val_loss: 0.6420 - val_accuracy: 0.6993\n",
      "\n",
      "Epoch 00010: val_loss improved from 0.64682 to 0.64196, saving model to mykaggle_weights_mymodel_vgg19_AdamOpt.hdf5\n",
      "Epoch 11/50\n",
      "360/360 [==============================] - 104s 289ms/step - loss: 0.6827 - accuracy: 0.6892 - val_loss: 0.6807 - val_accuracy: 0.6847\n",
      "\n",
      "Epoch 00011: val_loss did not improve from 0.64196\n",
      "Epoch 12/50\n",
      "360/360 [==============================] - 104s 289ms/step - loss: 0.6562 - accuracy: 0.7016 - val_loss: 0.7521 - val_accuracy: 0.6597\n",
      "\n",
      "Epoch 00012: val_loss did not improve from 0.64196\n",
      "Epoch 13/50\n",
      "360/360 [==============================] - 104s 290ms/step - loss: 0.6700 - accuracy: 0.6913 - val_loss: 0.6141 - val_accuracy: 0.7278\n",
      "\n",
      "Epoch 00013: val_loss improved from 0.64196 to 0.61412, saving model to mykaggle_weights_mymodel_vgg19_AdamOpt.hdf5\n",
      "Epoch 14/50\n",
      "360/360 [==============================] - 104s 289ms/step - loss: 0.6624 - accuracy: 0.7005 - val_loss: 0.6345 - val_accuracy: 0.7063\n",
      "\n",
      "Epoch 00014: val_loss did not improve from 0.61412\n",
      "Epoch 15/50\n",
      "360/360 [==============================] - 104s 289ms/step - loss: 0.6460 - accuracy: 0.7068 - val_loss: 0.5771 - val_accuracy: 0.7382\n",
      "\n",
      "Epoch 00015: val_loss improved from 0.61412 to 0.57713, saving model to mykaggle_weights_mymodel_vgg19_AdamOpt.hdf5\n",
      "Epoch 16/50\n",
      "360/360 [==============================] - 104s 289ms/step - loss: 0.6310 - accuracy: 0.7161 - val_loss: 0.6298 - val_accuracy: 0.7278\n",
      "\n",
      "Epoch 00016: val_loss did not improve from 0.57713\n",
      "Epoch 17/50\n",
      "360/360 [==============================] - 104s 289ms/step - loss: 0.6224 - accuracy: 0.7215 - val_loss: 0.6133 - val_accuracy: 0.7069\n",
      "\n",
      "Epoch 00017: val_loss did not improve from 0.57713\n",
      "Epoch 18/50\n",
      "360/360 [==============================] - 104s 289ms/step - loss: 0.6101 - accuracy: 0.7193 - val_loss: 0.5740 - val_accuracy: 0.7403\n",
      "\n",
      "Epoch 00018: val_loss improved from 0.57713 to 0.57401, saving model to mykaggle_weights_mymodel_vgg19_AdamOpt.hdf5\n",
      "Epoch 19/50\n",
      "360/360 [==============================] - 104s 289ms/step - loss: 0.5989 - accuracy: 0.7326 - val_loss: 0.6273 - val_accuracy: 0.7424\n",
      "\n",
      "Epoch 00019: val_loss did not improve from 0.57401\n",
      "Epoch 20/50\n",
      "360/360 [==============================] - 104s 289ms/step - loss: 0.5872 - accuracy: 0.7417 - val_loss: 0.6372 - val_accuracy: 0.7243\n",
      "\n",
      "Epoch 00020: val_loss did not improve from 0.57401\n",
      "Epoch 21/50\n",
      "360/360 [==============================] - 104s 289ms/step - loss: 0.5904 - accuracy: 0.7351 - val_loss: 0.5230 - val_accuracy: 0.7653\n",
      "\n",
      "Epoch 00021: val_loss improved from 0.57401 to 0.52302, saving model to mykaggle_weights_mymodel_vgg19_AdamOpt.hdf5\n",
      "Epoch 22/50\n",
      "360/360 [==============================] - 104s 289ms/step - loss: 0.5798 - accuracy: 0.7436 - val_loss: 0.5466 - val_accuracy: 0.7410\n",
      "\n",
      "Epoch 00022: val_loss did not improve from 0.52302\n",
      "Epoch 23/50\n",
      "360/360 [==============================] - 104s 289ms/step - loss: 0.5639 - accuracy: 0.7470 - val_loss: 0.6306 - val_accuracy: 0.7299\n",
      "\n",
      "Epoch 00023: val_loss did not improve from 0.52302\n",
      "Epoch 24/50\n",
      "360/360 [==============================] - 104s 289ms/step - loss: 0.5544 - accuracy: 0.7464 - val_loss: 0.5775 - val_accuracy: 0.7368\n",
      "\n",
      "Epoch 00024: val_loss did not improve from 0.52302\n",
      "Epoch 25/50\n",
      "360/360 [==============================] - 104s 289ms/step - loss: 0.5569 - accuracy: 0.7569 - val_loss: 0.5132 - val_accuracy: 0.7590\n",
      "\n",
      "Epoch 00025: val_loss improved from 0.52302 to 0.51320, saving model to mykaggle_weights_mymodel_vgg19_AdamOpt.hdf5\n",
      "Epoch 26/50\n",
      "360/360 [==============================] - 104s 289ms/step - loss: 0.5275 - accuracy: 0.7630 - val_loss: 0.5365 - val_accuracy: 0.7632\n",
      "\n",
      "Epoch 00026: val_loss did not improve from 0.51320\n",
      "Epoch 27/50\n",
      "360/360 [==============================] - 104s 289ms/step - loss: 0.5181 - accuracy: 0.7790 - val_loss: 0.5618 - val_accuracy: 0.7521\n",
      "\n",
      "Epoch 00027: val_loss did not improve from 0.51320\n",
      "Epoch 28/50\n",
      "360/360 [==============================] - 104s 290ms/step - loss: 0.5159 - accuracy: 0.7840 - val_loss: 0.5044 - val_accuracy: 0.7833\n",
      "\n",
      "Epoch 00028: val_loss improved from 0.51320 to 0.50435, saving model to mykaggle_weights_mymodel_vgg19_AdamOpt.hdf5\n",
      "Epoch 29/50\n",
      "360/360 [==============================] - 104s 289ms/step - loss: 0.5087 - accuracy: 0.7854 - val_loss: 0.5071 - val_accuracy: 0.7757\n",
      "\n",
      "Epoch 00029: val_loss did not improve from 0.50435\n",
      "Epoch 30/50\n",
      "360/360 [==============================] - 104s 290ms/step - loss: 0.4928 - accuracy: 0.7906 - val_loss: 0.5229 - val_accuracy: 0.7750\n",
      "\n",
      "Epoch 00030: val_loss did not improve from 0.50435\n",
      "Epoch 31/50\n",
      "360/360 [==============================] - 104s 289ms/step - loss: 0.4892 - accuracy: 0.8002 - val_loss: 0.5216 - val_accuracy: 0.7910\n",
      "\n",
      "Epoch 00031: val_loss did not improve from 0.50435\n",
      "Epoch 32/50\n",
      "360/360 [==============================] - 104s 289ms/step - loss: 0.4765 - accuracy: 0.8023 - val_loss: 0.4945 - val_accuracy: 0.7903\n",
      "\n",
      "Epoch 00032: val_loss improved from 0.50435 to 0.49449, saving model to mykaggle_weights_mymodel_vgg19_AdamOpt.hdf5\n",
      "Epoch 33/50\n",
      "360/360 [==============================] - 104s 289ms/step - loss: 0.4600 - accuracy: 0.8040 - val_loss: 0.5514 - val_accuracy: 0.7882\n",
      "\n",
      "Epoch 00033: val_loss did not improve from 0.49449\n",
      "Epoch 34/50\n",
      "360/360 [==============================] - 104s 289ms/step - loss: 0.4667 - accuracy: 0.8010 - val_loss: 0.4781 - val_accuracy: 0.8090\n",
      "\n",
      "Epoch 00034: val_loss improved from 0.49449 to 0.47810, saving model to mykaggle_weights_mymodel_vgg19_AdamOpt.hdf5\n",
      "Epoch 35/50\n",
      "360/360 [==============================] - 104s 290ms/step - loss: 0.4414 - accuracy: 0.8161 - val_loss: 0.5143 - val_accuracy: 0.7910\n",
      "\n",
      "Epoch 00035: val_loss did not improve from 0.47810\n",
      "Epoch 36/50\n",
      "360/360 [==============================] - 104s 289ms/step - loss: 0.4430 - accuracy: 0.8186 - val_loss: 0.5138 - val_accuracy: 0.7972\n",
      "\n",
      "Epoch 00036: val_loss did not improve from 0.47810\n",
      "Epoch 37/50\n",
      "360/360 [==============================] - 104s 289ms/step - loss: 0.4526 - accuracy: 0.8071 - val_loss: 0.4386 - val_accuracy: 0.8167\n",
      "\n",
      "Epoch 00037: val_loss improved from 0.47810 to 0.43865, saving model to mykaggle_weights_mymodel_vgg19_AdamOpt.hdf5\n",
      "Epoch 38/50\n",
      "360/360 [==============================] - 104s 289ms/step - loss: 0.4240 - accuracy: 0.8240 - val_loss: 0.4433 - val_accuracy: 0.8174\n",
      "\n",
      "Epoch 00038: val_loss did not improve from 0.43865\n",
      "Epoch 39/50\n",
      "360/360 [==============================] - 104s 289ms/step - loss: 0.4288 - accuracy: 0.8280 - val_loss: 0.5328 - val_accuracy: 0.7785\n",
      "\n",
      "Epoch 00039: val_loss did not improve from 0.43865\n",
      "Epoch 40/50\n",
      "360/360 [==============================] - 104s 289ms/step - loss: 0.4130 - accuracy: 0.8307 - val_loss: 0.4647 - val_accuracy: 0.8021\n",
      "\n",
      "Epoch 00040: val_loss did not improve from 0.43865\n",
      "Epoch 41/50\n",
      "360/360 [==============================] - 104s 289ms/step - loss: 0.4070 - accuracy: 0.8377 - val_loss: 0.4570 - val_accuracy: 0.8111\n",
      "\n",
      "Epoch 00041: val_loss did not improve from 0.43865\n",
      "Epoch 42/50\n",
      "360/360 [==============================] - 106s 294ms/step - loss: 0.4002 - accuracy: 0.8401 - val_loss: 0.4459 - val_accuracy: 0.8188\n",
      "\n",
      "Epoch 00042: val_loss did not improve from 0.43865\n",
      "Epoch 43/50\n",
      "360/360 [==============================] - 104s 288ms/step - loss: 0.3975 - accuracy: 0.8373 - val_loss: 0.4635 - val_accuracy: 0.8042\n",
      "\n",
      "Epoch 00043: val_loss did not improve from 0.43865\n",
      "Epoch 44/50\n",
      "360/360 [==============================] - 105s 291ms/step - loss: 0.3864 - accuracy: 0.8448 - val_loss: 0.4053 - val_accuracy: 0.8389\n",
      "\n",
      "Epoch 00044: val_loss improved from 0.43865 to 0.40532, saving model to mykaggle_weights_mymodel_vgg19_AdamOpt.hdf5\n",
      "Epoch 45/50\n",
      "360/360 [==============================] - 105s 292ms/step - loss: 0.3695 - accuracy: 0.8536 - val_loss: 0.4357 - val_accuracy: 0.8229\n",
      "\n",
      "Epoch 00045: val_loss did not improve from 0.40532\n",
      "Epoch 46/50\n",
      "360/360 [==============================] - 104s 290ms/step - loss: 0.3624 - accuracy: 0.8578 - val_loss: 0.4618 - val_accuracy: 0.8236\n",
      "\n",
      "Epoch 00046: val_loss did not improve from 0.40532\n",
      "Epoch 47/50\n",
      "360/360 [==============================] - 105s 290ms/step - loss: 0.3718 - accuracy: 0.8509 - val_loss: 0.4313 - val_accuracy: 0.8236\n",
      "\n",
      "Epoch 00047: val_loss did not improve from 0.40532\n",
      "Epoch 48/50\n",
      "360/360 [==============================] - 104s 289ms/step - loss: 0.3559 - accuracy: 0.8580 - val_loss: 0.4059 - val_accuracy: 0.8319\n",
      "\n",
      "Epoch 00048: val_loss did not improve from 0.40532\n",
      "Epoch 49/50\n",
      "360/360 [==============================] - 104s 289ms/step - loss: 0.3549 - accuracy: 0.8533 - val_loss: 0.5314 - val_accuracy: 0.8049\n",
      "\n",
      "Epoch 00049: val_loss did not improve from 0.40532\n",
      "Epoch 50/50\n",
      "360/360 [==============================] - 105s 292ms/step - loss: 0.3519 - accuracy: 0.8578 - val_loss: 0.4219 - val_accuracy: 0.8375\n",
      "\n",
      "Epoch 00050: val_loss did not improve from 0.40532\n"
     ]
    }
   ],
   "source": [
    "# Defining some Callbacks\n",
    "import math\n",
    "from keras.callbacks import ModelCheckpoint, LearningRateScheduler, EarlyStopping, ReduceLROnPlateau\n",
    "import numpy as np\n",
    "\n",
    "\n",
    "\n",
    "weight_path=\"{}_weights_mymodel_vgg19_AdamOpt.hdf5\".format('mykaggle')\n",
    "\n",
    "# checkpoint = ModelCheckpoint(weight_path, monitor='val_loss', verbose=1, \n",
    "#                              save_best_only=True, mode='min', save_weights_only = True)\n",
    "\n",
    "checkpoint = ModelCheckpoint(weight_path, verbose=2, monitor='val_loss',save_best_only=True)\n",
    "\n",
    "reduceLROnPlat = ReduceLROnPlateau(monitor='val_loss', factor=0.8, patience=7, verbose=1, mode='min', min_delta=0.0001, cooldown=5, min_lr=1e-8)\n",
    "early = EarlyStopping(monitor=\"val_loss\",  mode=\"min\",   patience=12) \n",
    "callbacks_list = [reduceLROnPlat,early,checkpoint]\n",
    "\n",
    "\n",
    "history = model.fit_generator(train_datagen.flow(X_train, y_train, batch_size=BATCH_SIZE), validation_data=(X_val,y_val),\n",
    "                    steps_per_epoch=len(X_train) / BATCH_SIZE, epochs=50 , callbacks=callbacks_list)"
   ]
  },
  {
   "cell_type": "code",
   "execution_count": 11,
   "metadata": {},
   "outputs": [
    {
     "data": {
      "image/png": "[encoded data removed]",
      "text/plain": [
       "<Figure size 576x576 with 1 Axes>"
      ]
     },
     "metadata": {
      "needs_background": "light"
     },
     "output_type": "display_data"
    }
   ],
   "source": [
    "import matplotlib.pyplot as plt\n",
    "plt.figure(figsize=(8, 8))\n",
    "plt.title(\"Learning curve\")\n",
    "plt.plot(model.history.history[\"loss\"], label=\"loss\")\n",
    "plt.plot(model.history.history[\"val_loss\"], label=\"val_loss\")\n",
    "plt.plot( np.argmin(model.history.history[\"val_loss\"]), np.min(model.history.history[\"val_loss\"]), marker=\"x\", color=\"r\", label=\"best model\")\n",
    "plt.xlabel(\"Epochs\")\n",
    "plt.ylabel(\"log_loss\")\n",
    "plt.legend();"
   ]
  },
  {
   "cell_type": "code",
   "execution_count": 12,
   "metadata": {},
   "outputs": [
    {
     "name": "stdout",
     "output_type": "stream",
     "text": [
      "800/800 [==============================] - 5s 7ms/step\n",
      "800\n"
     ]
    }
   ],
   "source": [
    "pred = model.predict(X_test,verbose=1)\n",
    "print(len(pred))"
   ]
  },
  {
   "cell_type": "code",
   "execution_count": 13,
   "metadata": {},
   "outputs": [
    {
     "name": "stdout",
     "output_type": "stream",
     "text": [
      "Classification Report\n",
      "                        precision    recall  f1-score   support\n",
      "\n",
      "        normal-pylorus       0.67      0.93      0.78        86\n",
      "         normal-z-line       0.87      0.54      0.67        89\n",
      "dyed-resection-margins       0.95      0.96      0.95        99\n",
      "    ulcerative-colitis       0.85      0.94      0.90        87\n",
      "    dyed-lifted-polyps       0.83      0.78      0.81       115\n",
      "          normal-cecum       0.81      0.82      0.81       110\n",
      "           esophagitis       0.80      0.86      0.83       117\n",
      "                polyps       0.88      0.76      0.82        97\n",
      "\n",
      "              accuracy                           0.82       800\n",
      "             macro avg       0.83      0.82      0.82       800\n",
      "          weighted avg       0.83      0.82      0.82       800\n",
      "\n"
     ]
    }
   ],
   "source": [
    "from sklearn.metrics import classification_report, confusion_matrix\n",
    "# to_categorical(np.argmax(pred, axis=1))\n",
    "def decode(datum):\n",
    "    return np.argmax(datum)\n",
    "\n",
    "mybatchlabels = []\n",
    "for i in range(len(X_test)):\n",
    "  mybatchlabels.append(decode(y_test[i]))\n",
    "\n",
    "y_pred = np.argmax(pred, axis=1)\n",
    "# print('Confusion Matrix')\n",
    "# print(confusion_matrix(X_test, mybatchlabels))\n",
    "print('Classification Report')\n",
    "target_names = ['normal-pylorus', 'normal-z-line', 'dyed-resection-margins', 'ulcerative-colitis', 'dyed-lifted-polyps', 'normal-cecum', 'esophagitis', 'polyps']\n",
    "print(classification_report(mybatchlabels, y_pred, target_names=target_names))"
   ]
  },
  {
   "cell_type": "code",
   "execution_count": null,
   "metadata": {},
   "outputs": [],
   "source": []
  }
 ],
 "metadata": {
  "kernelspec": {
   "display_name": "Python 3",
   "language": "python",
   "name": "python3"
  },
  "language_info": {
   "codemirror_mode": {
    "name": "ipython",
    "version": 3
   },
   "file_extension": ".py",
   "mimetype": "text/x-python",
   "name": "python",
   "nbconvert_exporter": "python",
   "pygments_lexer": "ipython3",
   "version": "3.6.5"
  }
 },
 "nbformat": 4,
 "nbformat_minor": 4
}
